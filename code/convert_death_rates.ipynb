{
 "cells": [
  {
   "cell_type": "code",
   "execution_count": 2,
   "metadata": {},
   "outputs": [
    {
     "name": "stdout",
     "output_type": "stream",
     "text": [
      "/home/spsalmon/better_paper_code/mortality_data/human_mortality_data/cohort/formated_death_rates\n"
     ]
    }
   ],
   "source": [
    "import pandas as pd\n",
    "import os\n",
    "\n",
    "unformated_death_rates = \"/home/spsalmon/better_paper_code/mortality_data/human_mortality_data/cohort/death_rates/\"\n",
    "output_dir = \"/home/spsalmon/better_paper_code/mortality_data/human_mortality_data/cohort/formated_death_rates/\"\n",
    "os.makedirs(output_dir, exist_ok=True)\n",
    "\n",
    "print(os.path.dirname(output_dir))\n",
    "\n",
    "def process_file(file_path, output_dir):\n",
    "    file_df = pd.read_csv(file_path)\n",
    "    file_df = file_df[['Year', 'Age', 'Total']]\n",
    "    file_df['qx'] = 2*file_df['Total']/(2 + file_df['Total'])\n",
    "    file_df = file_df.drop(columns=['Total'])\n",
    "    file_df.to_csv(os.path.join(output_dir, os.path.basename(file_path)), index=False)\n",
    "\n",
    "for file in os.listdir(unformated_death_rates):\n",
    "    process_file(os.path.join(unformated_death_rates, file), output_dir) "
   ]
  },
  {
   "cell_type": "code",
   "execution_count": null,
   "metadata": {},
   "outputs": [],
   "source": []
  }
 ],
 "metadata": {
  "kernelspec": {
   "display_name": "pharynx",
   "language": "python",
   "name": "python3"
  },
  "language_info": {
   "codemirror_mode": {
    "name": "ipython",
    "version": 3
   },
   "file_extension": ".py",
   "mimetype": "text/x-python",
   "name": "python",
   "nbconvert_exporter": "python",
   "pygments_lexer": "ipython3",
   "version": "3.8.10"
  },
  "orig_nbformat": 4
 },
 "nbformat": 4,
 "nbformat_minor": 2
}
