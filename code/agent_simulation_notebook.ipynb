{
 "cells": [
  {
   "cell_type": "code",
   "execution_count": 16,
   "metadata": {},
   "outputs": [],
   "source": [
    "# from gla_package.gla import aging_gompertz_makeham, learning_function, growth_function, fertility_brass_polynomial\n",
    "from gla_package.gla import gla_model, gla_model_vectorized, aging_gompertz_makeham, learning_function, growth_function, fertility_brass_polynomial\n",
    "# from gla_package.landscape import compute_fitness_grid_point\n",
    "import numpy as np\n",
    "import pandas as pd\n",
    "import matplotlib.pyplot as plt\n",
    "from time import perf_counter\n",
    "from joblib import Parallel, delayed\n",
    "import scipy"
   ]
  },
  {
   "cell_type": "code",
   "execution_count": 17,
   "metadata": {},
   "outputs": [],
   "source": [
    "import scipy.optimize\n",
    "\n",
    "def survival_l(x, aging_function, learning_function, growth_function, aging_args, learning_args, growth_args):\n",
    "\tcumulative_hazard = scipy.integrate.quad(lambda t: gla_model(t, aging_function, learning_function, growth_function, aging_args, learning_args, growth_args), 0, x, limit=10000)[0]\n",
    "\treturn np.exp(-cumulative_hazard)\n",
    "\n",
    "def euler_lotka_function(r, aging_function, learning_function, growth_function, fertility_function, aging_args, learning_args, growth_args, fertility_args):\n",
    "\tintegral = scipy.integrate.quad(lambda t: fertility_function(t, *fertility_args) * survival_l(t, aging_function, learning_function, growth_function, aging_args, learning_args, growth_args) * np.exp(-r*t), 0, 100, limit=1000)[0]\n",
    "\treturn integral - 1\n",
    "\n",
    "def compute_fitness(aging_function, learning_function, growth_function, fertility_function, aging_args, learning_args, growth_args, fertility_args):\n",
    "    fitness = scipy.optimize.fsolve(lambda r: euler_lotka_function(r, aging_function, learning_function, growth_function, fertility_function, aging_args, learning_args, growth_args, fertility_args), 0.0001)[0]\n",
    "    if fitness < 0:\n",
    "        return 0.0\n",
    "    return fitness\n",
    "\n",
    "def compute_fitness_grid_point(grid_point, aging_function, learning_function, growth_function, fertility_function, aging_args, learning_args, growth_args, fertility_args):\n",
    "    new_aging_args = [aging_args[0], grid_point[0], aging_args[2]]\n",
    "    new_learning_args = [grid_point[1], learning_args[1], learning_args[2]]\n",
    "    fitness = compute_fitness(aging_function, learning_function, growth_function, fertility_function, new_aging_args, new_learning_args, growth_args, fertility_args)\n",
    "    return fitness \n"
   ]
  },
  {
   "cell_type": "code",
   "execution_count": 19,
   "metadata": {},
   "outputs": [
    {
     "data": {
      "text/plain": [
       "0.03092579374637572"
      ]
     },
     "execution_count": 19,
     "metadata": {},
     "output_type": "execute_result"
    }
   ],
   "source": [
    "def generate_grid(grid_type, b_min, b_max, lmax_min, lmax_max, dim = 5):\n",
    "\tgrid = np.zeros((dim*dim, 2))\n",
    "\n",
    "\tif grid_type == \"regular\":\n",
    "\t\tb_grid = np.linspace(b_min, b_max, dim)\n",
    "\t\tLmax_grid = np.linspace(lmax_min, lmax_max, dim)\n",
    "\t\tB, L = np.meshgrid(b_grid, Lmax_grid)\n",
    "\n",
    "\t\tgrid[:, 0] = B.flatten()\n",
    "\t\tgrid[:, 1] = L.flatten()\n",
    "\treturn grid\n",
    "\n",
    "def compute_reduced_b_grid(grid, b_decrease):\n",
    "\treduced_b_grid = grid.copy()\n",
    "\treduced_b_grid[:, 0] = reduced_b_grid[:, 0]*b_decrease\n",
    "\treturn reduced_b_grid\n",
    "\n",
    "def parallel_compute_fitness_grid(grid, aging_function, learning_function, growth_function, fertility_function, aging_args, learning_args, growth_args, fertility_args):\n",
    "\tfitness = Parallel(n_jobs=4)(delayed(compute_fitness_grid_point)(point, aging_function, learning_function, growth_function, fertility_function, aging_args, learning_args, growth_args, fertility_args) for point in grid)\n",
    "\treturn fitness\n",
    "\n",
    "\t\n",
    "aging_args = [0.00275961297460256,0.04326224872667336,0.025201676835511704]  # Arguments for aging_gompertz\n",
    "learning_args = [0.01606792505529796,39.006865144958745,0.11060749334680318]  # Arguments for learning_function\n",
    "growth_args = [0.05168141300917714,0.08765165352033985]  # Arguments for growth_function\n",
    "fertility_args = [2.455e-5, 14.8, 32.836]  # Arguments for fertility_function\n",
    "\n",
    "\n",
    "compute_fitness(aging_gompertz_makeham, learning_function, growth_function, fertility_brass_polynomial, aging_args, learning_args, growth_args, fertility_args)"
   ]
  },
  {
   "cell_type": "code",
   "execution_count": null,
   "metadata": {},
   "outputs": [],
   "source": []
  }
 ],
 "metadata": {
  "kernelspec": {
   "display_name": "pharynx",
   "language": "python",
   "name": "python3"
  },
  "language_info": {
   "codemirror_mode": {
    "name": "ipython",
    "version": 3
   },
   "file_extension": ".py",
   "mimetype": "text/x-python",
   "name": "python",
   "nbconvert_exporter": "python",
   "pygments_lexer": "ipython3",
   "version": "3.9.18"
  },
  "orig_nbformat": 4
 },
 "nbformat": 4,
 "nbformat_minor": 2
}
